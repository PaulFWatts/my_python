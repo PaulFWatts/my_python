{
 "cells": [
  {
   "cell_type": "markdown",
   "metadata": {},
   "source": [
    "## Formatted String Literals:  f-strings\n",
    "https://docs.python.org/3/library/string.html#formatspec\n",
    "Implemented in Python 3.6"
   ]
  },
  {
   "cell_type": "markdown",
   "metadata": {},
   "source": [
    "### Date and Time Formatting\n",
    "f-strings can format date and time as if you used datetime.strftime method. \n",
    "\n",
    "This is extra nice, when you realize that there are more formats than just the few mentioned in the docs.\n",
    "\n",
    " Python's strftime supports also all the formats supported by the underlying C implementation, which might vary by platform and that's why it's not mentioned in docs. \n",
    " \n",
    " With that said you can take advantage of these formats anyway and use for example %F, which is an equivalent of %Y-%m-%d or %T which is an equivalent of %H:%M:%S, also worth mentioning are %x and %X which are locales preferred date and time formats respectively. \n",
    " \n",
    " Usage of these formats is obviously not limited to f-strings. Refer to the Linux manpages for full list of formats"
   ]
  },
  {
   "cell_type": "code",
   "execution_count": null,
   "metadata": {},
   "outputs": [],
   "source": [
    "# Date and Time Formating\n",
    "\n",
    "import datetime\n",
    "today = datetime.datetime.today()\n",
    "print(f\"{today:%Y-%m-%d}\")  # 2022-03-11\n",
    "print(f\"{today:%Y}\")  # 2022"
   ]
  },
  {
   "cell_type": "markdown",
   "metadata": {},
   "source": [
    "### Variable Names and Debugging\n",
    "One of the more recent additions to f-string features (starting with Python 3.8) is ability to print variable names along with the value:\n",
    "\n",
    "This feature is called “debugging” and can be applied in combination with other modifiers. It also preserves whitespaces, so f\"{x = }\" and f\"{x=}\" will produce different strings."
   ]
  },
  {
   "cell_type": "code",
   "execution_count": null,
   "metadata": {},
   "outputs": [],
   "source": [
    "#  Variable Names and Debugging\n",
    "\n",
    "x = 10\n",
    "y = 25\n",
    "print(f\"x = {x}, y = {y}\")  # x = 10, y = 25\n",
    "print(f\"{x = }, {y = }\")  # Better! (3.8+),  x = 10, y = 25\n",
    "print(f\"{x = :.3f}\")  # x = 10.000\n"
   ]
  },
  {
   "cell_type": "markdown",
   "metadata": {},
   "source": [
    "### String Representation\n",
    "When printing class instances, __str__ method of the class is used by default for string representation. If we however want to force usage of __repr__, we can use the !r conversion flag:\n",
    "\n",
    "We could also just call repr(some_var) inside the f-string, but using the conversion flag is a nice native and concise solution."
   ]
  },
  {
   "cell_type": "code",
   "execution_count": null,
   "metadata": {},
   "outputs": [],
   "source": [
    "# String Representation\n",
    "\n",
    "class User:\n",
    "    def __init__(self, first_name, last_name):\n",
    "        self.first_name = first_name\n",
    "        self.last_name = last_name\n",
    "\n",
    "    def __str__(self):\n",
    "        return f\"{self.first_name} {self.last_name}\"\n",
    "\n",
    "    def __repr__(self):\n",
    "        return f\"User's name is: {self.first_name} {self.last_name}\"\n",
    "\n",
    "user = User(\"John\", \"Doe\")\n",
    "print(f\"{user}\")  # John Doe\n",
    "print(f\"{user!r}\")  # User's name is: John Doe\n"
   ]
  },
  {
   "cell_type": "markdown",
   "metadata": {},
   "source": [
    "### Superior Performance\n",
    "Powerful features and syntax sugar oftentimes comes with performance penalty, that’s however not the case when it comes to f-strings.\n",
    "\n",
    "The  samples below  were tested with timeit module like so: `python -m timeit -s 'x, y = \"Hello\", \"World\"' 'f\"{x} {y}\"`' and as you can see f-strings are actually the fastest of all formatting options Python provides. So, even if you prefer using some of the older formatting options, you might consider switching to f-strings just for the performance boost."
   ]
  },
  {
   "cell_type": "code",
   "execution_count": null,
   "metadata": {},
   "outputs": [],
   "source": [
    "# python -m timeit -s 'x, y = \"Hello\", \"World\"' 'f\"{x} {y}\"'\n",
    "from string import Template\n",
    "\n",
    "x, y = \"Hello\", \"World\"\n",
    "\n",
    "print(f\"{x} {y}\")  # 39.6 nsec per loop - Fast!\n",
    "print(x + \" \" + y)  # 43.5 nsec per loop\n",
    "print(\" \".join((x, y)))  # 58.1 nsec per loop\n",
    "print(\"%s %s\" % (x, y))  # 103 nsec per loop\n",
    "print(\"{} {}\".format(x, y))  # 141 nsec per loop\n",
    "print(Template(\"$x $y\").substitute(x=x, y=y))  # 1.24 usec per loop - Slow!"
   ]
  },
  {
   "cell_type": "markdown",
   "metadata": {},
   "source": [
    "### Full Power of Formatting Spec\n",
    "F-strings support Python’s Format Specification Mini-Language, so you can embed a lot of formatting operations into their modifiers:"
   ]
  },
  {
   "cell_type": "code",
   "execution_count": null,
   "metadata": {},
   "outputs": [],
   "source": [
    "text = \"hello world\"\n",
    "\n",
    "# Center text:\n",
    "print(f\"{text:^15}\")\n",
    "# '  hello world  '\n",
    "\n",
    "number = 1234567890\n",
    "# Set separator\n",
    "print(f\"{number:,}\")\n",
    "# 1,234,567,890\n",
    "\n",
    "number = 123\n",
    "# Add leading zeros\n",
    "print(f\"{number:08}\")\n",
    "# 00000123"
   ]
  },
  {
   "cell_type": "markdown",
   "metadata": {},
   "source": [
    "### Nested F-Strings\n",
    "If basic f-strings aren’t good enough for your formatting needs you can even nest them into each other.\n",
    "\n",
    "You can embed f-strings inside f-strings for tricky formatting problems like adding a dollar sign to a right aligned float, as shown above.\n",
    "\n",
    "Nested f-strings can also be used in case you need to use variables in the format specifier part. This can also make the f-string more readable:"
   ]
  },
  {
   "cell_type": "code",
   "execution_count": null,
   "metadata": {},
   "outputs": [],
   "source": [
    "number = 254.3463\n",
    "print(f\"{f'${number:.3f}':>10s}\")  # '  $254.346'\n"
   ]
  },
  {
   "cell_type": "code",
   "execution_count": null,
   "metadata": {},
   "outputs": [],
   "source": [
    "import decimal\n",
    "width = 8\n",
    "precision = 3\n",
    "value = decimal.Decimal(\"42.12345\")\n",
    "print(f\"output: {value:{width}.{precision}}\")  # 'output:     42.1'\n"
   ]
  },
  {
   "cell_type": "markdown",
   "metadata": {},
   "source": [
    "### Conditionals Formatting\n",
    "Building on top of the above example with nested f-strings, we can go a bit farther and use ternary conditional operators inside the inner f-string.\n",
    "\n",
    "This can become very unreadable very quickly, so you might want to break it into multiple lines instead."
   ]
  },
  {
   "cell_type": "code",
   "execution_count": null,
   "metadata": {},
   "outputs": [],
   "source": [
    "import decimal\n",
    "value = decimal.Decimal(\"42.12345\")\n",
    "print(f'Result: {value:{\"4.3\" if value < 100 else \"8.3\"}}')\n",
    "# Result: 42.1\n",
    "value = decimal.Decimal(\"142.12345\")\n",
    "print(f'Result: {value:{\"4.2\" if value < 100 else \"8.3\"}}')\n",
    "# Result:      142"
   ]
  },
  {
   "cell_type": "markdown",
   "metadata": {},
   "source": [
    "### Lambda Expressions\n",
    "If you want to push limits of f-strings and also make whoever reads your code angry, then — with a little bit of effort — you can also use lambdas:\n",
    "\n",
    "Parenthesis around the lambda expression are in this case mandatory, because of the :, which would be otherwise interpreted by f-string."
   ]
  },
  {
   "cell_type": "code",
   "execution_count": 8,
   "metadata": {},
   "outputs": [
    {
     "name": "stdout",
     "output_type": "stream",
     "text": [
      "9\n"
     ]
    }
   ],
   "source": [
    "print(f\"{(lambda x: x**2)(3)}\") # 9\n"
   ]
  }
 ],
 "metadata": {
  "interpreter": {
   "hash": "de937625d52890566e158c97fd5158a2decd67b68b95c54fef9f365dd2709045"
  },
  "kernelspec": {
   "display_name": "Python 3.10.0 ('venv': venv)",
   "language": "python",
   "name": "python3"
  },
  "language_info": {
   "codemirror_mode": {
    "name": "ipython",
    "version": 3
   },
   "file_extension": ".py",
   "mimetype": "text/x-python",
   "name": "python",
   "nbconvert_exporter": "python",
   "pygments_lexer": "ipython3",
   "version": "3.10.0"
  },
  "orig_nbformat": 4
 },
 "nbformat": 4,
 "nbformat_minor": 2
}
